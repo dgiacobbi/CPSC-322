{
 "cells": [
  {
   "cell_type": "markdown",
   "id": "6d9ec0ee",
   "metadata": {},
   "source": [
    "# CPSC 322: HW-1\n",
    "\n",
    "Name: David Giacobbi\n",
    "\n",
    "Term: Fall 2023"
   ]
  },
  {
   "cell_type": "markdown",
   "id": "e93409ac",
   "metadata": {},
   "source": [
    "## 1. Load HW-1 functions"
   ]
  },
  {
   "cell_type": "code",
   "execution_count": 1,
   "id": "0e7e9126",
   "metadata": {},
   "outputs": [],
   "source": [
    "from hw1 import *"
   ]
  },
  {
   "cell_type": "markdown",
   "id": "1ce18089",
   "metadata": {},
   "source": [
    "## 2. Tests of the List Stats function"
   ]
  },
  {
   "cell_type": "code",
   "execution_count": 2,
   "id": "d0fc8d58",
   "metadata": {},
   "outputs": [
    {
     "data": {
      "text/plain": [
       "(1, 5, 3.0, 15)"
      ]
     },
     "execution_count": 2,
     "metadata": {},
     "output_type": "execute_result"
    }
   ],
   "source": [
    "list_stats([1,2,3,4,5])"
   ]
  },
  {
   "cell_type": "code",
   "execution_count": 25,
   "id": "1dcd7b75",
   "metadata": {},
   "outputs": [
    {
     "data": {
      "text/plain": [
       "(9, 237, 62.72727272727273, 690)"
      ]
     },
     "execution_count": 25,
     "metadata": {},
     "output_type": "execute_result"
    }
   ],
   "source": [
    "list_stats([45, 29, 67, 30, 47, 237, 78, 102, 9, 34, 12])"
   ]
  },
  {
   "cell_type": "code",
   "execution_count": 36,
   "id": "3fee3ae5",
   "metadata": {},
   "outputs": [
    {
     "data": {
      "text/plain": [
       "(1, 1, 1.0, 1)"
      ]
     },
     "execution_count": 36,
     "metadata": {},
     "output_type": "execute_result"
    }
   ],
   "source": [
    "list_stats([1])"
   ]
  },
  {
   "cell_type": "code",
   "execution_count": 47,
   "id": "d10ff9e8",
   "metadata": {},
   "outputs": [
    {
     "data": {
      "text/plain": [
       "(None, None, None, None)"
      ]
     },
     "execution_count": 47,
     "metadata": {},
     "output_type": "execute_result"
    }
   ],
   "source": [
    "list_stats([])"
   ]
  },
  {
   "cell_type": "markdown",
   "id": "0839ec04",
   "metadata": {},
   "source": [
    "## 3. Tests of the Convert Numeric function"
   ]
  },
  {
   "cell_type": "code",
   "execution_count": 48,
   "id": "7b12dea2",
   "metadata": {},
   "outputs": [
    {
     "data": {
      "text/plain": [
       "'abc'"
      ]
     },
     "execution_count": 48,
     "metadata": {},
     "output_type": "execute_result"
    }
   ],
   "source": [
    "convert_numeric('abc')"
   ]
  },
  {
   "cell_type": "code",
   "execution_count": 58,
   "id": "6879d6f1",
   "metadata": {},
   "outputs": [
    {
     "data": {
      "text/plain": [
       "563"
      ]
     },
     "execution_count": 58,
     "metadata": {},
     "output_type": "execute_result"
    }
   ],
   "source": [
    "convert_numeric('563')"
   ]
  },
  {
   "cell_type": "code",
   "execution_count": 76,
   "id": "e719b678",
   "metadata": {},
   "outputs": [
    {
     "data": {
      "text/plain": [
       "4.5782"
      ]
     },
     "execution_count": 76,
     "metadata": {},
     "output_type": "execute_result"
    }
   ],
   "source": [
    "convert_numeric('4.5782')"
   ]
  },
  {
   "cell_type": "code",
   "execution_count": 85,
   "id": "a027a632",
   "metadata": {},
   "outputs": [
    {
     "data": {
      "text/plain": [
       "'foo'"
      ]
     },
     "execution_count": 85,
     "metadata": {},
     "output_type": "execute_result"
    }
   ],
   "source": [
    "convert_numeric('foo')"
   ]
  },
  {
   "cell_type": "markdown",
   "id": "9e3fa277",
   "metadata": {},
   "source": [
    "## 4. Tests of the Random Matrix function (for loop implementation)"
   ]
  },
  {
   "cell_type": "code",
   "execution_count": 94,
   "id": "6a98e971",
   "metadata": {},
   "outputs": [
    {
     "data": {
      "text/plain": [
       "[[0, 5, 5], [5, 4, 5]]"
      ]
     },
     "execution_count": 94,
     "metadata": {},
     "output_type": "execute_result"
    }
   ],
   "source": [
    "random_matrix_for(2,3)"
   ]
  },
  {
   "cell_type": "code",
   "execution_count": 102,
   "id": "dedc3384",
   "metadata": {},
   "outputs": [
    {
     "data": {
      "text/plain": [
       "[[10, 63, 5, 26, 55, 27, 8, 7],\n",
       " [57, 34, 61, 9, 63, 20, 39, 12],\n",
       " [47, 8, 50, 49, 53, 14, 11, 33],\n",
       " [42, 20, 61, 7, 43, 36, 37, 3],\n",
       " [42, 9, 18, 7, 57, 56, 37, 53],\n",
       " [4, 1, 55, 12, 7, 38, 52, 26],\n",
       " [2, 2, 61, 37, 33, 51, 9, 23],\n",
       " [21, 42, 53, 29, 10, 40, 37, 40]]"
      ]
     },
     "execution_count": 102,
     "metadata": {},
     "output_type": "execute_result"
    }
   ],
   "source": [
    "random_matrix_for(8,8)"
   ]
  },
  {
   "cell_type": "code",
   "execution_count": 109,
   "id": "85a2cd96",
   "metadata": {},
   "outputs": [
    {
     "data": {
      "text/plain": [
       "[[3, 2], [6, 8], [7, 6], [0, 6], [4, 0]]"
      ]
     },
     "execution_count": 109,
     "metadata": {},
     "output_type": "execute_result"
    }
   ],
   "source": [
    "random_matrix_for(5,2)"
   ]
  },
  {
   "cell_type": "code",
   "execution_count": 124,
   "id": "a0c29309",
   "metadata": {},
   "outputs": [
    {
     "data": {
      "text/plain": [
       "[[41, 72, 12, 78, 57, 22, 56],\n",
       " [51, 16, 42, 5, 36, 39, 21],\n",
       " [14, 64, 4, 56, 57, 35, 41],\n",
       " [51, 60, 39, 51, 80, 37, 17],\n",
       " [9, 82, 33, 0, 53, 64, 76],\n",
       " [50, 17, 39, 40, 33, 26, 61],\n",
       " [75, 22, 0, 64, 80, 69, 0],\n",
       " [5, 74, 20, 22, 73, 0, 35],\n",
       " [49, 10, 64, 76, 55, 35, 43],\n",
       " [60, 45, 39, 6, 31, 73, 76],\n",
       " [62, 26, 38, 68, 3, 60, 36],\n",
       " [51, 43, 34, 33, 29, 40, 23]]"
      ]
     },
     "execution_count": 124,
     "metadata": {},
     "output_type": "execute_result"
    }
   ],
   "source": [
    "random_matrix_for(12, 7)"
   ]
  },
  {
   "cell_type": "markdown",
   "id": "aa04fce3",
   "metadata": {},
   "source": [
    "## 5. Tests of the Random Matrix function (list-comprehension implementation)"
   ]
  },
  {
   "cell_type": "code",
   "execution_count": 125,
   "id": "f8e7c838",
   "metadata": {},
   "outputs": [
    {
     "data": {
      "text/plain": [
       "[[3, 1, 4], [1, 4, 1]]"
      ]
     },
     "execution_count": 125,
     "metadata": {},
     "output_type": "execute_result"
    }
   ],
   "source": [
    "random_matrix_comp(2, 3)"
   ]
  },
  {
   "cell_type": "code",
   "execution_count": 131,
   "id": "7f8024e0",
   "metadata": {},
   "outputs": [
    {
     "data": {
      "text/plain": [
       "[[22, 17, 37, 61, 9, 9, 17, 58],\n",
       " [36, 47, 31, 48, 32, 43, 56, 39],\n",
       " [56, 44, 59, 29, 18, 49, 17, 45],\n",
       " [56, 45, 26, 18, 16, 53, 57, 7],\n",
       " [19, 17, 44, 18, 51, 14, 27, 46],\n",
       " [48, 1, 55, 0, 12, 16, 0, 1],\n",
       " [44, 19, 54, 51, 56, 41, 2, 16],\n",
       " [43, 58, 8, 8, 12, 55, 8, 20]]"
      ]
     },
     "execution_count": 131,
     "metadata": {},
     "output_type": "execute_result"
    }
   ],
   "source": [
    "random_matrix_comp(8,8)"
   ]
  },
  {
   "cell_type": "code",
   "execution_count": 136,
   "id": "d63b7993",
   "metadata": {},
   "outputs": [
    {
     "data": {
      "text/plain": [
       "[[5, 1], [3, 6], [0, 2], [3, 3], [2, 7]]"
      ]
     },
     "execution_count": 136,
     "metadata": {},
     "output_type": "execute_result"
    }
   ],
   "source": [
    "random_matrix_comp(5,2)"
   ]
  },
  {
   "cell_type": "code",
   "execution_count": 141,
   "id": "42fedc22",
   "metadata": {},
   "outputs": [
    {
     "data": {
      "text/plain": [
       "[[63, 36, 64, 34, 47, 41],\n",
       " [65, 34, 76, 31, 14, 76],\n",
       " [48, 40, 56, 30, 43, 16],\n",
       " [17, 9, 79, 37, 54, 49],\n",
       " [69, 30, 27, 17, 1, 67],\n",
       " [71, 22, 41, 14, 49, 33],\n",
       " [10, 44, 76, 28, 56, 45],\n",
       " [82, 7, 35, 46, 48, 63],\n",
       " [37, 24, 63, 80, 78, 35],\n",
       " [30, 76, 40, 25, 51, 26],\n",
       " [11, 51, 26, 43, 28, 3],\n",
       " [51, 76, 53, 54, 32, 12],\n",
       " [33, 64, 47, 43, 8, 12],\n",
       " [44, 6, 20, 42, 32, 71]]"
      ]
     },
     "execution_count": 141,
     "metadata": {},
     "output_type": "execute_result"
    }
   ],
   "source": [
    "random_matrix_comp(14,6)"
   ]
  },
  {
   "cell_type": "markdown",
   "id": "c3b1b29d",
   "metadata": {},
   "source": [
    "## 6. Tests of the Transpose Matrix function"
   ]
  },
  {
   "cell_type": "code",
   "execution_count": 142,
   "id": "8cb9bc6d",
   "metadata": {},
   "outputs": [
    {
     "data": {
      "text/plain": [
       "[[1, 4], [2, 5], [3, 6]]"
      ]
     },
     "execution_count": 142,
     "metadata": {},
     "output_type": "execute_result"
    }
   ],
   "source": [
    "transpose_matrix([[1, 2, 3], [4, 5, 6]])"
   ]
  },
  {
   "cell_type": "code",
   "execution_count": 146,
   "id": "489789e1",
   "metadata": {},
   "outputs": [
    {
     "data": {
      "text/plain": [
       "[[1, 3, 5], [2, 4, 6]]"
      ]
     },
     "execution_count": 146,
     "metadata": {},
     "output_type": "execute_result"
    }
   ],
   "source": [
    "transpose_matrix([[1, 2], [3, 4], [5, 6]]) "
   ]
  },
  {
   "cell_type": "code",
   "execution_count": 149,
   "id": "555c4199",
   "metadata": {},
   "outputs": [
    {
     "data": {
      "text/plain": [
       "[[1, 4, 7], [2, 5, 8], [3, 6, 9]]"
      ]
     },
     "execution_count": 149,
     "metadata": {},
     "output_type": "execute_result"
    }
   ],
   "source": [
    "transpose_matrix([[1, 2, 3], [4, 5, 6], [7, 8, 9]])"
   ]
  },
  {
   "cell_type": "code",
   "execution_count": 152,
   "id": "621e57b6",
   "metadata": {},
   "outputs": [
    {
     "data": {
      "text/plain": [
       "[[1, 1], [2, 2], [3, 3], [4, 4], [5, 5], [6, 6], [7, 7], [8, 8]]"
      ]
     },
     "execution_count": 152,
     "metadata": {},
     "output_type": "execute_result"
    }
   ],
   "source": [
    "transpose_matrix([[1, 2, 3, 4, 5, 6, 7, 8], [1, 2, 3, 4, 5, 6, 7, 8]])"
   ]
  },
  {
   "cell_type": "markdown",
   "id": "3655e108",
   "metadata": {},
   "source": [
    "## 7. Tests of the Reshape Matrix function"
   ]
  },
  {
   "cell_type": "code",
   "execution_count": 153,
   "id": "fc98d1e3",
   "metadata": {},
   "outputs": [
    {
     "data": {
      "text/plain": [
       "[[1, 2], [4, 5], [0, 0]]"
      ]
     },
     "execution_count": 153,
     "metadata": {},
     "output_type": "execute_result"
    }
   ],
   "source": [
    "reshape_matrix([[1, 2, 3], [4, 5, 6]], 3, 2)"
   ]
  },
  {
   "cell_type": "code",
   "execution_count": 156,
   "id": "1abe419e",
   "metadata": {},
   "outputs": [
    {
     "data": {
      "text/plain": [
       "[[1, 2], [5, 6]]"
      ]
     },
     "execution_count": 156,
     "metadata": {},
     "output_type": "execute_result"
    }
   ],
   "source": [
    "reshape_matrix([[1, 2, 3, 4], [5, 6, 7, 8]], 2, 2)"
   ]
  },
  {
   "cell_type": "code",
   "execution_count": 157,
   "id": "7fb90f45",
   "metadata": {},
   "outputs": [
    {
     "data": {
      "text/plain": [
       "[[1, 2, 3, 4, 5, 6],\n",
       " [0, 0, 0, 0, 0, 0],\n",
       " [0, 0, 0, 0, 0, 0],\n",
       " [0, 0, 0, 0, 0, 0],\n",
       " [0, 0, 0, 0, 0, 0]]"
      ]
     },
     "execution_count": 157,
     "metadata": {},
     "output_type": "execute_result"
    }
   ],
   "source": [
    "reshape_matrix([[1, 2, 3, 4, 5, 6, 7, 8, 9]], 5, 6)"
   ]
  },
  {
   "cell_type": "code",
   "execution_count": 158,
   "id": "e1ae9724",
   "metadata": {},
   "outputs": [
    {
     "data": {
      "text/plain": [
       "[[1, 2, 3], [6, 7, 8], [11, 12, 13]]"
      ]
     },
     "execution_count": 158,
     "metadata": {},
     "output_type": "execute_result"
    }
   ],
   "source": [
    "reshape_matrix([[1, 2, 3, 4, 5], [6, 7, 8, 9, 10], [11, 12, 13, 14, 15]], 3, 3)"
   ]
  },
  {
   "cell_type": "markdown",
   "id": "d3970ac4",
   "metadata": {},
   "source": [
    "## 8. Challenges and Issues\n",
    "\n",
    "I think one of the most difficult challenges of this homework was clearing the outputs before running tests in Python. There were many moments when the program would not compile my changes on the first run, especially in Jupyter Notebook. Other than that, I think the code was fairly straightforward. It was interesting to see how efficient list comprehension is in cutting down lines of code and how well it was in creating elegant solutions. I think something I will work on more in the future is taking into account more input cases that could lead to errors if an incorrect input is given."
   ]
  }
 ],
 "metadata": {
  "kernelspec": {
   "display_name": "Python 3 (ipykernel)",
   "language": "python",
   "name": "python3"
  },
  "language_info": {
   "codemirror_mode": {
    "name": "ipython",
    "version": 3
   },
   "file_extension": ".py",
   "mimetype": "text/x-python",
   "name": "python",
   "nbconvert_exporter": "python",
   "pygments_lexer": "ipython3",
   "version": "3.11.4"
  }
 },
 "nbformat": 4,
 "nbformat_minor": 5
}
